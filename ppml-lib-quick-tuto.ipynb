{
 "cells": [
  {
   "cell_type": "markdown",
   "id": "a1dffb24",
   "metadata": {
    "papermill": {
     "duration": 0.00561,
     "end_time": "2022-10-09T11:36:37.073757",
     "exception": false,
     "start_time": "2022-10-09T11:36:37.068147",
     "status": "completed"
    },
    "tags": []
   },
   "source": [
    "# PPML Lib : Quick Tuto\n",
    "\n",
    "Quick tuto for Performence Profile for Machine Learning (PPML) librarie."
   ]
  },
  {
   "cell_type": "code",
   "execution_count": null,
   "id": "a552a4cd",
   "metadata": {
    "papermill": {
     "duration": 0.004027,
     "end_time": "2022-10-09T11:36:37.082360",
     "exception": false,
     "start_time": "2022-10-09T11:36:37.078333",
     "status": "completed"
    },
    "tags": []
   },
   "outputs": [],
   "source": []
  },
  {
   "cell_type": "markdown",
   "id": "f0992dc8",
   "metadata": {
    "papermill": {
     "duration": 0.004339,
     "end_time": "2022-10-09T11:36:37.091349",
     "exception": false,
     "start_time": "2022-10-09T11:36:37.087010",
     "status": "completed"
    },
    "tags": []
   },
   "source": [
    "### Loading libraries"
   ]
  },
  {
   "cell_type": "code",
   "execution_count": 1,
   "id": "0ca90660",
   "metadata": {
    "_cell_guid": "b1076dfc-b9ad-4769-8c92-a6c4dae69d19",
    "_uuid": "8f2839f25d086af736a60e9eeb907d3b93b6e0e5",
    "execution": {
     "iopub.execute_input": "2022-10-09T11:36:37.103176Z",
     "iopub.status.busy": "2022-10-09T11:36:37.102136Z",
     "iopub.status.idle": "2022-10-09T11:36:37.115003Z",
     "shell.execute_reply": "2022-10-09T11:36:37.114089Z"
    },
    "papermill": {
     "duration": 0.021895,
     "end_time": "2022-10-09T11:36:37.117665",
     "exception": false,
     "start_time": "2022-10-09T11:36:37.095770",
     "status": "completed"
    },
    "tags": []
   },
   "outputs": [],
   "source": [
    "import numpy as np # linear algebra\n",
    "import pandas as pd # data processing, CSV file I/O (e.g. pd.read_csv)"
   ]
  },
  {
   "cell_type": "markdown",
   "id": "4840185c",
   "metadata": {
    "papermill": {
     "duration": 0.004228,
     "end_time": "2022-10-09T11:36:37.126496",
     "exception": false,
     "start_time": "2022-10-09T11:36:37.122268",
     "status": "completed"
    },
    "tags": []
   },
   "source": [
    "#### Install PPML Lib with `!pip install` command"
   ]
  },
  {
   "cell_type": "code",
   "execution_count": 2,
   "id": "c92e0221",
   "metadata": {
    "_kg_hide-output": true,
    "collapsed": true,
    "execution": {
     "iopub.execute_input": "2022-10-09T11:36:37.137673Z",
     "iopub.status.busy": "2022-10-09T11:36:37.136629Z",
     "iopub.status.idle": "2022-10-09T11:36:50.151800Z",
     "shell.execute_reply": "2022-10-09T11:36:50.150047Z"
    },
    "jupyter": {
     "outputs_hidden": true
    },
    "papermill": {
     "duration": 13.023746,
     "end_time": "2022-10-09T11:36:50.154660",
     "exception": false,
     "start_time": "2022-10-09T11:36:37.130914",
     "status": "completed"
    },
    "tags": []
   },
   "outputs": [
    {
     "name": "stdout",
     "output_type": "stream",
     "text": [
      "Processing /kaggle/input/ppmllib/ppmllib-0.1.0-py3-none-any.whl\r\n",
      "Requirement already satisfied: matplotlib>=3.0.0 in /opt/conda/lib/python3.7/site-packages (from ppmllib==0.1.0) (3.5.3)\r\n",
      "Requirement already satisfied: numpy>=1.16.2 in /opt/conda/lib/python3.7/site-packages (from ppmllib==0.1.0) (1.21.6)\r\n",
      "Requirement already satisfied: setuptools in /opt/conda/lib/python3.7/site-packages (from ppmllib==0.1.0) (59.8.0)\r\n",
      "Requirement already satisfied: pandas>=0.24.2 in /opt/conda/lib/python3.7/site-packages (from ppmllib==0.1.0) (1.3.5)\r\n",
      "Requirement already satisfied: packaging>=20.0 in /opt/conda/lib/python3.7/site-packages (from matplotlib>=3.0.0->ppmllib==0.1.0) (21.3)\r\n",
      "Requirement already satisfied: cycler>=0.10 in /opt/conda/lib/python3.7/site-packages (from matplotlib>=3.0.0->ppmllib==0.1.0) (0.11.0)\r\n",
      "Requirement already satisfied: python-dateutil>=2.7 in /opt/conda/lib/python3.7/site-packages (from matplotlib>=3.0.0->ppmllib==0.1.0) (2.8.2)\r\n",
      "Requirement already satisfied: pyparsing>=2.2.1 in /opt/conda/lib/python3.7/site-packages (from matplotlib>=3.0.0->ppmllib==0.1.0) (3.0.9)\r\n",
      "Requirement already satisfied: fonttools>=4.22.0 in /opt/conda/lib/python3.7/site-packages (from matplotlib>=3.0.0->ppmllib==0.1.0) (4.33.3)\r\n",
      "Requirement already satisfied: pillow>=6.2.0 in /opt/conda/lib/python3.7/site-packages (from matplotlib>=3.0.0->ppmllib==0.1.0) (9.1.1)\r\n",
      "Requirement already satisfied: kiwisolver>=1.0.1 in /opt/conda/lib/python3.7/site-packages (from matplotlib>=3.0.0->ppmllib==0.1.0) (1.4.3)\r\n",
      "Requirement already satisfied: pytz>=2017.3 in /opt/conda/lib/python3.7/site-packages (from pandas>=0.24.2->ppmllib==0.1.0) (2022.1)\r\n",
      "Requirement already satisfied: typing-extensions in /opt/conda/lib/python3.7/site-packages (from kiwisolver>=1.0.1->matplotlib>=3.0.0->ppmllib==0.1.0) (4.3.0)\r\n",
      "Requirement already satisfied: six>=1.5 in /opt/conda/lib/python3.7/site-packages (from python-dateutil>=2.7->matplotlib>=3.0.0->ppmllib==0.1.0) (1.15.0)\r\n",
      "Installing collected packages: ppmllib\r\n",
      "Successfully installed ppmllib-0.1.0\r\n",
      "\u001b[33mWARNING: Running pip as the 'root' user can result in broken permissions and conflicting behaviour with the system package manager. It is recommended to use a virtual environment instead: https://pip.pypa.io/warnings/venv\u001b[0m\u001b[33m\r\n",
      "\u001b[0m"
     ]
    }
   ],
   "source": [
    "# PPML lib installation\n",
    "!pip install ../input/ppmllib/ppmllib-0.1.0-py3-none-any.whl"
   ]
  },
  {
   "cell_type": "markdown",
   "id": "e1f25e1e",
   "metadata": {
    "papermill": {
     "duration": 0.004582,
     "end_time": "2022-10-09T11:36:50.164359",
     "exception": false,
     "start_time": "2022-10-09T11:36:50.159777",
     "status": "completed"
    },
    "tags": []
   },
   "source": [
    "<div class=\"alert alert-block alert-info\" style=\"text-align:center; font-size:28px;\">\n",
    "    Regression Example\n",
    "</div>"
   ]
  },
  {
   "cell_type": "markdown",
   "id": "7d4a5d2c",
   "metadata": {
    "papermill": {
     "duration": 0.004526,
     "end_time": "2022-10-09T11:36:50.173776",
     "exception": false,
     "start_time": "2022-10-09T11:36:50.169250",
     "status": "completed"
    },
    "tags": []
   },
   "source": [
    "### Define Data"
   ]
  },
  {
   "cell_type": "code",
   "execution_count": 3,
   "id": "12466b32",
   "metadata": {
    "execution": {
     "iopub.execute_input": "2022-10-09T11:36:50.185697Z",
     "iopub.status.busy": "2022-10-09T11:36:50.185211Z",
     "iopub.status.idle": "2022-10-09T11:36:50.210421Z",
     "shell.execute_reply": "2022-10-09T11:36:50.209253Z"
    },
    "papermill": {
     "duration": 0.034422,
     "end_time": "2022-10-09T11:36:50.213134",
     "exception": false,
     "start_time": "2022-10-09T11:36:50.178712",
     "status": "completed"
    },
    "tags": []
   },
   "outputs": [],
   "source": [
    "df = pd.DataFrame()\n",
    "df['xgb_cls'] = [ 1, 2.01, 3.19, 5.1, 3.10, 3.46, 5.78, 0.78]\n",
    "df['lgb_cls'] = [ 1, 2.02, 3.23, 4.9, 3.13, 3.46, 5.71, 0.91]\n",
    "df['target']  = [ 1, 2.01, 3.04, 3.5, 3.11, 3.40, 5.35, 0.87]"
   ]
  },
  {
   "cell_type": "markdown",
   "id": "c3f6af96",
   "metadata": {
    "papermill": {
     "duration": 0.00474,
     "end_time": "2022-10-09T11:36:50.222853",
     "exception": false,
     "start_time": "2022-10-09T11:36:50.218113",
     "status": "completed"
    },
    "tags": []
   },
   "source": [
    "### Loading `PPMLRegressor` and Plot PPML graph"
   ]
  },
  {
   "cell_type": "code",
   "execution_count": 4,
   "id": "32b8685e",
   "metadata": {
    "execution": {
     "iopub.execute_input": "2022-10-09T11:36:50.235456Z",
     "iopub.status.busy": "2022-10-09T11:36:50.235053Z",
     "iopub.status.idle": "2022-10-09T11:36:50.975107Z",
     "shell.execute_reply": "2022-10-09T11:36:50.974065Z"
    },
    "papermill": {
     "duration": 0.749008,
     "end_time": "2022-10-09T11:36:50.977665",
     "exception": false,
     "start_time": "2022-10-09T11:36:50.228657",
     "status": "completed"
    },
    "tags": []
   },
   "outputs": [
    {
     "name": "stdout",
     "output_type": "stream",
     "text": [
      "\n"
     ]
    },
    {
     "data": {
      "image/png": "[encoded data removed]",
      "text/plain": [
       "<Figure size 1008x504 with 1 Axes>"
      ]
     },
     "metadata": {
      "needs_background": "light"
     },
     "output_type": "display_data"
    }
   ],
   "source": [
    "from ppmllib.ppml import PPMLRegressor\n",
    "\n",
    "PPMLRegressor(\n",
    "                df,          # pd.DataFrame\n",
    "                'target',    # target name in your pd.DataFrame\n",
    "                'reg_task'   # output file name\n",
    "            )"
   ]
  },
  {
   "cell_type": "code",
   "execution_count": null,
   "id": "41aeb470",
   "metadata": {
    "papermill": {
     "duration": 0.005042,
     "end_time": "2022-10-09T11:36:50.988213",
     "exception": false,
     "start_time": "2022-10-09T11:36:50.983171",
     "status": "completed"
    },
    "tags": []
   },
   "outputs": [],
   "source": []
  },
  {
   "cell_type": "markdown",
   "id": "1247e48c",
   "metadata": {
    "papermill": {
     "duration": 0.005181,
     "end_time": "2022-10-09T11:36:50.998898",
     "exception": false,
     "start_time": "2022-10-09T11:36:50.993717",
     "status": "completed"
    },
    "tags": []
   },
   "source": [
    "<div class=\"alert alert-block alert-info\" style=\"text-align:center; font-size:28px;\">\n",
    "    Multi-classification Example\n",
    "</div>"
   ]
  },
  {
   "cell_type": "markdown",
   "id": "17c23de7",
   "metadata": {
    "papermill": {
     "duration": 0.005096,
     "end_time": "2022-10-09T11:36:51.009492",
     "exception": false,
     "start_time": "2022-10-09T11:36:51.004396",
     "status": "completed"
    },
    "tags": []
   },
   "source": [
    "### Define Data"
   ]
  },
  {
   "cell_type": "code",
   "execution_count": 5,
   "id": "dfa4ec71",
   "metadata": {
    "execution": {
     "iopub.execute_input": "2022-10-09T11:36:51.023778Z",
     "iopub.status.busy": "2022-10-09T11:36:51.022780Z",
     "iopub.status.idle": "2022-10-09T11:36:51.030924Z",
     "shell.execute_reply": "2022-10-09T11:36:51.030096Z"
    },
    "papermill": {
     "duration": 0.018263,
     "end_time": "2022-10-09T11:36:51.033264",
     "exception": false,
     "start_time": "2022-10-09T11:36:51.015001",
     "status": "completed"
    },
    "tags": []
   },
   "outputs": [],
   "source": [
    "cls_df = pd.DataFrame()\n",
    "\n",
    "cls_df['Model1'] = [1, 3, 3, 3, 2, 2, 3, 3, 1, 2, 3, 5, 5, 5, 5, 4, 3, 5, 4, 1, 2, 2]\n",
    "cls_df['Model2'] = [1, 2, 3, 2, 3, 3, 2, 2, 1, 2, 3, 3, 3, 3, 3, 2, 3, 1, 2, 2, 2, 2] "
   ]
  },
  {
   "cell_type": "markdown",
   "id": "e5fea2e6",
   "metadata": {
    "papermill": {
     "duration": 0.005272,
     "end_time": "2022-10-09T11:36:51.043910",
     "exception": false,
     "start_time": "2022-10-09T11:36:51.038638",
     "status": "completed"
    },
    "tags": []
   },
   "source": [
    "### Ploting `PPML graph`"
   ]
  },
  {
   "cell_type": "code",
   "execution_count": 6,
   "id": "ddba99c4",
   "metadata": {
    "execution": {
     "iopub.execute_input": "2022-10-09T11:36:51.057130Z",
     "iopub.status.busy": "2022-10-09T11:36:51.056077Z",
     "iopub.status.idle": "2022-10-09T11:36:51.418301Z",
     "shell.execute_reply": "2022-10-09T11:36:51.416997Z"
    },
    "papermill": {
     "duration": 0.371559,
     "end_time": "2022-10-09T11:36:51.420923",
     "exception": false,
     "start_time": "2022-10-09T11:36:51.049364",
     "status": "completed"
    },
    "tags": []
   },
   "outputs": [
    {
     "data": {
      "image/png": "[encoded data removed]",
      "text/plain": [
       "<Figure size 1008x504 with 1 Axes>"
      ]
     },
     "metadata": {
      "needs_background": "light"
     },
     "output_type": "display_data"
    }
   ],
   "source": [
    "from ppmllib.ppml import graph_plot\n",
    "\n",
    "graph_plot(\n",
    "            cls_df,               # pd.DataFrame\n",
    "            'cls_feux_tricolors'  # output file name\n",
    "        )"
   ]
  },
  {
   "cell_type": "code",
   "execution_count": null,
   "id": "d387d301",
   "metadata": {
    "papermill": {
     "duration": 0.005436,
     "end_time": "2022-10-09T11:36:51.432255",
     "exception": false,
     "start_time": "2022-10-09T11:36:51.426819",
     "status": "completed"
    },
    "tags": []
   },
   "outputs": [],
   "source": []
  },
  {
   "cell_type": "markdown",
   "id": "0b0e7049",
   "metadata": {
    "papermill": {
     "duration": 0.005228,
     "end_time": "2022-10-09T11:36:51.443063",
     "exception": false,
     "start_time": "2022-10-09T11:36:51.437835",
     "status": "completed"
    },
    "tags": []
   },
   "source": [
    "<div class=\"alert alert-block alert-danger\" style=\"text-align:center; font-size:28px;\">\n",
    "    Acknowledgement\n",
    "</div>\n",
    "\n",
    "If you use ppmllib as part of your workflow in a scientific publication, please consider citing the ppmllib repository with the following DOI:\n",
    "\n",
    "\n",
    "```\n",
    "@article{chryzal_2022_ppmllib,\n",
    "  author       = {Chryzal Beaudelaire ZOSSOU, Vinasetan Ratheil HOUNDJI},\n",
    "  title        = {PPMLlib: Provide performance profile for machine learning metric in python },\n",
    "  month        = june,\n",
    "  year         = 2022,\n",
    "  url          = {https://github.com/bchryzal/ppmllib/PPforML.pdf}\n",
    "}\n",
    "```\n",
    "- C. Beaudelaire ZOSSOU, V. Ratheil HOUNDJI (2022) PPMLlib: Provide performance profile for machine learning metric in python. Open Source Softw.\n"
   ]
  }
 ],
 "metadata": {
  "kernelspec": {
   "display_name": "Python 3",
   "language": "python",
   "name": "python3"
  },
  "language_info": {
   "codemirror_mode": {
    "name": "ipython",
    "version": 3
   },
   "file_extension": ".py",
   "mimetype": "text/x-python",
   "name": "python",
   "nbconvert_exporter": "python",
   "pygments_lexer": "ipython3",
   "version": "3.7.12"
  },
  "papermill": {
   "default_parameters": {},
   "duration": 24.736871,
   "end_time": "2022-10-09T11:36:52.170828",
   "environment_variables": {},
   "exception": null,
   "input_path": "__notebook__.ipynb",
   "output_path": "__notebook__.ipynb",
   "parameters": {},
   "start_time": "2022-10-09T11:36:27.433957",
   "version": "2.3.4"
  }
 },
 "nbformat": 4,
 "nbformat_minor": 5
}
